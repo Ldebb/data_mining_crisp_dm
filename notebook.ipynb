{
 "cells": [
  {
   "cell_type": "code",
   "execution_count": 1,
   "metadata": {},
   "outputs": [],
   "source": [
    "import io\n",
    "import requests\n",
    "import pandas as pd\n",
    "import numpy as np\n",
    "import matplotlib.pyplot as plt\n",
    "from hyperopt import hp\n",
    "from hyperopt.pyll.stochastic import sample\n",
    "from hyperopt import rand, tpe\n",
    "from hyperopt import Trials\n",
    "from hyperopt import fmin\n",
    "\n",
    "from sklearn.model_selection import train_test_split\n",
    "from sklearn.impute import SimpleImputer\n",
    "from sklearn.preprocessing import StandardScaler\n",
    "from sklearn.neighbors import KNeighborsClassifier\n",
    "from sklearn.metrics import mean_squared_error\n",
    "from sklearn.neighbors import DistanceMetric\n",
    "from math import sqrt"
   ]
  },
  {
   "cell_type": "code",
   "execution_count": 2,
   "metadata": {},
   "outputs": [],
   "source": [
    "url=\"https://raw.githubusercontent.com/S-Mann/hyperparameter_optimization/master/dataset/dataset.csv\"\n",
    "s=requests.get(url).content\n",
    "dataset=pd.read_csv(io.StringIO(s.decode('utf-8')))\n",
    "\n",
    "excluded_columns = [x not in ['model', 'msrp', 'model_year', 'popularity', 'profit_per_unit', 'units_sold','cost_per_unit'] for x in dataset.columns]\n",
    "\n",
    "X = dataset.iloc[:,excluded_columns].values\n",
    "y = dataset.iloc[:,dataset.columns == 'msrp'].values\n",
    "\n",
    "X_train, X_test, y_train, y_test = train_test_split(X, y, test_size=0.10, random_state=123)\n",
    "\n",
    "# Create our imputer to replace missing values with the mean e.g.\n",
    "imp = SimpleImputer(missing_values=np.nan, strategy='mean')\n",
    "imp = imp.fit(X_train)\n",
    "X_train = imp.transform(X_train)\n",
    "imp = imp.fit(X_test)\n",
    "X_test = imp.transform(X_test)\n",
    "\n",
    "scaler = StandardScaler()\n",
    "scaler.fit(X_train)\n",
    "\n",
    "X_train = scaler.transform(X_train)\n",
    "X_test = scaler.transform(X_test)"
   ]
  },
  {
   "cell_type": "code",
   "execution_count": 3,
   "metadata": {},
   "outputs": [],
   "source": [
    "def knn_obj_func(hyperparams):    \n",
    "    classifier = KNeighborsClassifier(n_neighbors=int(hyperparams[1]), metric=hyperparams[0])\n",
    "    classifier.fit(X_train, np.ravel(y_train, order='C'))\n",
    "    \n",
    "    y_pred = classifier.predict(X_test)\n",
    "    \n",
    "    rmse = sqrt(mean_squared_error(y_test, y_pred))\n",
    "    return rmse"
   ]
  },
  {
   "cell_type": "code",
   "execution_count": 4,
   "metadata": {},
   "outputs": [
    {
     "data": {
      "text/plain": [
       "13522.133991548919"
      ]
     },
     "execution_count": 4,
     "metadata": {},
     "output_type": "execute_result"
    }
   ],
   "source": [
    "metric_types = ['minkowski','euclidean', 'manhattan', 'chebyshev', 'canberra', 'braycurtis']\n",
    "# This is a random k value and its RMSE\n",
    "random_hyperparam = [metric_types[0], 3]\n",
    "random_loss = knn_obj_func(random_hyperparam)\n",
    "random_loss"
   ]
  },
  {
   "cell_type": "code",
   "execution_count": 5,
   "metadata": {},
   "outputs": [],
   "source": [
    "space = hp.choice('a',\n",
    "    [\n",
    "        (metric_types[0], hp.uniform('c1', 2, 100)),\n",
    "        (metric_types[1], hp.uniform('c2', 2, 100)),\n",
    "        (metric_types[2], hp.uniform('c3', 2, 100)),\n",
    "        (metric_types[3], hp.uniform('c4', 2, 100)),\n",
    "        (metric_types[4], hp.uniform('c5', 2, 100)),\n",
    "        (metric_types[5], hp.uniform('c6', 2, 100))\n",
    "    ])\n",
    "samples = []\n",
    "\n",
    "for _ in range(5000):\n",
    "    samples.append(sample(space))"
   ]
  },
  {
   "cell_type": "code",
   "execution_count": 6,
   "metadata": {},
   "outputs": [],
   "source": [
    "# Create objects for the algorithms\n",
    "tpe_algo = tpe.suggest # Tree Structure Parzen Estimator\n",
    "rand_algo = rand.suggest # Random Forest\n",
    "\n",
    "# Create two trials objects to record your estimations\n",
    "tpe_trials = Trials()\n",
    "rand_trials = Trials()"
   ]
  },
  {
   "cell_type": "code",
   "execution_count": 7,
   "metadata": {},
   "outputs": [
    {
     "name": "stdout",
     "output_type": "stream",
     "text": [
      "100%|██████████| 200/200 [02:48<00:00,  1.20it/s, best loss: 7299.820366342756]\n",
      "100%|██████████| 200/200 [03:28<00:00,  1.39it/s, best loss: 7435.8209888702595]\n"
     ]
    }
   ],
   "source": [
    "# Run 2000 trials with the tpe algorithm with our objective function and domain space\n",
    "tpe_best = fmin(fn=knn_obj_func, space=space, algo=tpe_algo, trials=tpe_trials, max_evals=200, rstate= np.random.RandomState(50))\n",
    "\n",
    "# Run 2000 trials with the random algorithm with our objective function and domain space\n",
    "rand_best = fmin(fn=knn_obj_func, space=space, algo=rand_algo, trials=rand_trials, max_evals=200, rstate= np.random.RandomState(50))"
   ]
  },
  {
   "cell_type": "code",
   "execution_count": 8,
   "metadata": {},
   "outputs": [
    {
     "name": "stdout",
     "output_type": "stream",
     "text": [
      "Best distance measure for TPE is 'minkowski' with K value as 2\n"
     ]
    }
   ],
   "source": [
    "print(\"Best distance measure for TPE is '{0}' with K value as {1}\".format(metric_types[tpe_best['a']],int(tpe_best['c1'])))"
   ]
  },
  {
   "cell_type": "code",
   "execution_count": 9,
   "metadata": {},
   "outputs": [
    {
     "name": "stdout",
     "output_type": "stream",
     "text": [
      "Best distance measure for Random Forest is 'braycurtis' with K value as 2\n"
     ]
    }
   ],
   "source": [
    "print(\"Best distance measure for Random Forest is '{0}' with K value as {1}\".format(metric_types[rand_best['a']],int(rand_best['c6'])))"
   ]
  }
 ],
 "metadata": {
  "file_extension": ".py",
  "kernelspec": {
   "display_name": "Python 3",
   "language": "python",
   "name": "python3"
  },
  "language_info": {
   "codemirror_mode": {
    "name": "ipython",
    "version": 3
   },
   "file_extension": ".py",
   "mimetype": "text/x-python",
   "name": "python",
   "nbconvert_exporter": "python",
   "pygments_lexer": "ipython3",
   "version": "3.7.0"
  },
  "mimetype": "text/x-python",
  "name": "python",
  "npconvert_exporter": "python",
  "pygments_lexer": "ipython3",
  "version": 3
 },
 "nbformat": 4,
 "nbformat_minor": 2
}
